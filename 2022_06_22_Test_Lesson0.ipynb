{
  "nbformat": 4,
  "nbformat_minor": 0,
  "metadata": {
    "colab": {
      "name": "2022-06-22_Shivani_Lesson0",
      "provenance": [],
      "collapsed_sections": [],
      "include_colab_link": true
    },
    "kernelspec": {
      "name": "python3",
      "display_name": "Python 3"
    }
  },
  "cells": [
    {
      "cell_type": "markdown",
      "metadata": {
        "id": "view-in-github",
        "colab_type": "text"
      },
      "source": [
        "<a href=\"https://colab.research.google.com/github/aditi2401/APT_Projects/blob/main/2022_06_22_Test_Lesson0.ipynb\" target=\"_parent\"><img src=\"https://colab.research.google.com/assets/colab-badge.svg\" alt=\"Open In Colab\"/></a>"
      ]
    },
    {
      "cell_type": "markdown",
      "metadata": {
        "id": "W0l8coGdmyaI"
      },
      "source": [
        "# Lesson 0: COVID-19 Outbreak Analysis"
      ]
    },
    {
      "cell_type": "markdown",
      "metadata": {
        "id": "wf5ibdMS8C8W"
      },
      "source": [
        "### Teacher-Student Activities\n",
        "\n",
        "We all know that coronavirus is spreading on a daily basis in India. So, let's try to visualise how fast it is spreading.\n",
        "\n",
        "First, let's look at the dashboard created by Johns Hopkins University. You can look at the following live dashboard to see the real-time trend.\n",
        "\n",
        "[COVID-19 Live Dashboard](https://www.arcgis.com/apps/opsdashboard/index.html#/bda7594740fd40299423467b48e9ecf6)\n",
        "\n",
        "Now, let's create a similar map for India using Python to visualise the most affected states in India due to coronavirus. After the class, you can share it with your parents, relatives and friends by sending them the link to the map."
      ]
    },
    {
      "cell_type": "markdown",
      "metadata": {
        "id": "LH4QfpXOmwyk"
      },
      "source": [
        "---"
      ]
    },
    {
      "cell_type": "markdown",
      "metadata": {
        "id": "L_Opp5fyeA6V"
      },
      "source": [
        "#### Activity 1: Run Source Code\n",
        "\n",
        "This is the source code for the map to be created. You will learn to write it after signing up for the applied tech course. Right now, you just have to execute the code."
      ]
    },
    {
      "cell_type": "code",
      "metadata": {
        "id": "fbsMjhp2vZlE",
        "colab": {
          "base_uri": "https://localhost:8080/"
        },
        "outputId": "772332eb-4580-43d1-892f-03213fd85768"
      },
      "source": [
        "# Student Action: Run the code below.\n",
        "# Download data\n",
        "!git clone https://github.com/CSSEGISandData/COVID-19.git\n",
        "\n",
        "# Install 'geocoder'\n",
        "!pip install geocoder\n",
        "\n",
        "# Importing modules\n",
        "import pandas as pd  \n",
        "import matplotlib.pyplot as plt \n",
        "import seaborn as sns\n",
        "import datetime \n",
        "import geocoder\n",
        "import folium\n",
        "from folium import plugins \n",
        "\n",
        "# DataFrame for the world\n",
        "conf_csv = '/content/COVID-19/csse_covid_19_data/csse_covid_19_time_series/time_series_covid19_confirmed_global.csv'\n",
        "conf_df = pd.read_csv(conf_csv)\n",
        "grouped_conf_df = conf_df.groupby(by = ['Country/Region'], as_index = False).sum()\n",
        "\n",
        "# DataFrame for India\n",
        "india_df = pd.read_csv(\"https://api.covid19india.org/csv/latest/state_wise.csv\")\n",
        "india_df = india_df.iloc[1:36, :]\n",
        "state_latitudes = []\n",
        "state_longitudes = []\n",
        "for i in india_df.index:\n",
        "    state = india_df['State'][i]\n",
        "    state_lat = geocoder.osm(state).lat\n",
        "    state_lng = geocoder.osm(state).lng\n",
        "    state_latitudes.append(state_lat)\n",
        "    state_longitudes.append(state_lng)\n",
        "\n",
        "state_latitudes = pd.Series(data = state_latitudes, index = india_df.index)\n",
        "state_longitudes = pd.Series(data = state_longitudes, index = india_df.index)\n",
        "india_df['Latitude'] = state_latitudes\n",
        "india_df['Longitude'] = state_longitudes\n",
        "india_df = india_df[india_df['State'] != 'State Unassigned']\n",
        "\n",
        "# DataFrame for the US\n",
        "us_conf_csv = '/content/COVID-19/csse_covid_19_data/csse_covid_19_time_series/time_series_covid19_confirmed_US.csv'\n",
        "us_conf_df = pd.read_csv(us_conf_csv)\n",
        "us_conf_df = us_conf_df.dropna()\n",
        "grouped_us_conf_df = us_conf_df.groupby(by = ['Combined_Key'], as_index = False).sum()\n",
        "\n",
        "# Function to get total confirmed cases in a country\n",
        "def get_total_confirmed_cases_for_country(country_name):\n",
        "    total_cases_country = conf_df[conf_df['Country/Region'] == country_name].iloc[:, 4:].apply(sum, axis = 0)\n",
        "    total_cases_country.index = pd.to_datetime(total_cases_country.index)\n",
        "    return total_cases_country\n",
        "\n",
        "# Function to get total confirmed cases in the world\n",
        "def get_total_confirmed_global_cases():\n",
        "    global_cases = conf_df.iloc[:, 4:].apply(sum, axis=0)\n",
        "    global_cases.index = pd.to_datetime(global_cases.index)\n",
        "    return global_cases\n",
        "\n",
        "# Function to create a line plot\n",
        "def line_plot(your_name, plot_background, fig_width, fig_height, country_name, colour, linewidth, markertype):\n",
        "    dt_series = None\n",
        "    if country_name != 'global':\n",
        "        dt_series = get_total_confirmed_cases_for_country(country_name)\n",
        "    else:\n",
        "        dt_series = get_total_confirmed_global_cases()\n",
        "    plt.style.use(plot_background)\n",
        "    plt.figure(figsize = (fig_width, fig_height))\n",
        "    plt.title(f'{country_name.upper()}: Total Coronavirus Cases Reported\\nCreated by {your_name.upper()}\\nPowered by WhiteHat Jr', fontsize = 16)\n",
        "    plt.plot(dt_series.index, dt_series, c = colour, lw = linewidth, marker = markertype, markersize = 7)\n",
        "    plt.xticks(rotation = 45)\n",
        "    plt.ylabel(\"Total Cases\")\n",
        "    plt.grid(linestyle='--', c='grey')\n",
        "    plt.show()\n",
        "\n",
        "# Add minimap\n",
        "def add_minimap(map_name):\n",
        "    # Plugin for mini map\n",
        "    minimap = plugins.MiniMap(toggle_display = True)\n",
        "    map_name.add_child(minimap) # Add minimap\n",
        "    plugins.ScrollZoomToggler().add_to(map_name) # Add scroll zoom toggler to map\n",
        "    plugins.Fullscreen(position='topright').add_to(map_name) # Add full screen button to map\n",
        "\n",
        "# Add title to map\n",
        "def add_title(map_name, country, your_name):\n",
        "    title_html = '''\n",
        "        <h2 align=\"center\" style=\"font-size:20px\"><b>Coronavirus Total Confirmed Cases in {}</b></h2>\n",
        "        <h4 align=\"center\" style=\"font-size:16px\"><i>Created by</i> {}</h4>\n",
        "        <h4 align=\"center\" style=\"font-size:16px\"><i>Powered by</i>\n",
        "            <a href=\"https://www.whitehatjr.com/\">WhiteHat Jr</a>\n",
        "        </h4>\n",
        "             '''.format(country, your_name.upper())   \n",
        "    return map_name.get_root().html.add_child(folium.Element(title_html))\n",
        "\n",
        "# Function to create folium maps using for India, US and the world\n",
        "def folium_map_with_circles(your_name, country, map_width, map_height, left_margin, top_margin, map_tile, zoom, circle_color, minimap):\n",
        "    last_col = conf_df.columns[-1]\n",
        "    if country == 'India':\n",
        "        india_map = folium.Map(location = [22.3511148, 78.6677428], \n",
        "                               width = map_width, height = map_height,\n",
        "                               left = f\"{left_margin}%\", top = f\"{top_margin}%\",\n",
        "                               tiles = map_tile, zoom_start = zoom)\n",
        "        \n",
        "        if minimap == True:\n",
        "            add_minimap(india_map)\n",
        "        \n",
        "        add_title(india_map, country, your_name)\n",
        "        for i in india_df.index:\n",
        "            folium.Circle(radius = float(india_df.loc[i, 'Confirmed']) / 25,\n",
        "                          location = [india_df.loc[i, 'Latitude'], india_df.loc[i, 'Longitude']],\n",
        "                          popup = \"{}\\n {}\\n on {}\".format(india_df.loc[i, 'State'], \n",
        "                                                          india_df.loc[i, 'Confirmed'], \n",
        "                                                          india_df.loc[i, 'Last_Updated_Time']),\n",
        "                          \n",
        "                          color = circle_color,\n",
        "                          fill = True).add_to(india_map)\n",
        "        return india_map\n",
        "\n",
        "    elif country == 'US':\n",
        "        us_map = folium.Map(location = [39.381266, -97.922211], \n",
        "                            width = map_width, height = map_height, \n",
        "                            left = f\"{left_margin}%\", top = f\"{top_margin}%\",\n",
        "                            tiles = map_tile, zoom_start = zoom)\n",
        "        if minimap == True:\n",
        "            add_minimap(us_map)\n",
        "        \n",
        "        add_title(us_map, country, your_name)\n",
        "        for i in grouped_us_conf_df.index:\n",
        "            folium.Circle(location = [grouped_us_conf_df.loc[i, 'Lat'], grouped_us_conf_df.loc[i, 'Long_']], \n",
        "                          radius = int(grouped_us_conf_df.loc[i, last_col]) / 25, \n",
        "                          popup = \"{}\\n {}\\n on {}\".format(grouped_us_conf_df.loc[i, 'Combined_Key'],\n",
        "                                                          grouped_us_conf_df.loc[i, last_col],\n",
        "                                                          last_col),\n",
        "                          color = circle_color,\n",
        "                          fill = True).add_to(us_map)\n",
        "        return us_map\n",
        "    \n",
        "    elif country == 'World':\n",
        "        world_map = folium.Map(location = [0, 0], \n",
        "                            width = map_width, height = map_height, \n",
        "                            left = f\"{left_margin}%\", top = f\"{top_margin}%\",\n",
        "                            tiles = map_tile, zoom_start = zoom)\n",
        "        if minimap == True:\n",
        "            add_minimap(world_map)\n",
        "        \n",
        "        add_title(world_map, country, your_name)\n",
        "        for i in grouped_conf_df.index:\n",
        "            folium.Circle(location = [grouped_conf_df.loc[i, 'Lat'], grouped_conf_df.loc[i, 'Long']], \n",
        "                          radius = int(grouped_conf_df.loc[i, last_col]) / 50, \n",
        "                          popup = \"{}\\n {}\\n on {}\".format(grouped_conf_df.loc[i, 'Country/Region'],\n",
        "                                                          grouped_conf_df.loc[i, last_col], \n",
        "                                                          last_col),\n",
        "                          color = circle_color, \n",
        "                          fill = True).add_to(world_map)\n",
        "        return world_map\n",
        "    else:\n",
        "        print(\"\\nWrong input! Enter either India, US or World.\\n\")\n",
        "\n",
        "# Total confirmed cases in the descending order.\n",
        "grouped_conf_df = conf_df.groupby(by='Country/Region', as_index=False).sum()\n",
        "desc_grp_conf_df = grouped_conf_df.sort_values(by=conf_df.columns[-1], ascending=False)\n",
        "\n",
        "# Function to create a bar plot displaying the top 10 countries having the most number of coronavirus confirmed cases.\n",
        "def bar_plot(your_name, num_countries, width, height):\n",
        "    last_col = conf_df.columns[-1]\n",
        "    latest_date = datetime.datetime.strptime(last_col, '%m/%d/%y').strftime('%B %d, %Y') # Modify the latest date in the 'Month DD, YYYY' format.\n",
        "    plt.figure(figsize = (width, height))\n",
        "    plt.title(f'Top {num_countries} Countries with Highest COVID-19 Confirmed Cases\\nCreated by {your_name.upper()}\\nPowered by WhiteHat Jr', \n",
        "              fontsize = 16)\n",
        "    sns.barplot(desc_grp_conf_df[last_col].head(num_countries), desc_grp_conf_df['Country/Region'].head(num_countries), orient = 'h')\n",
        "    plt.xlabel(f'Total Confirmed Cases (in millions) as of {latest_date}')\n",
        "    plt.show()\n",
        "\n",
        "# Non-cumulative Confirmed Cases.\n",
        "non_cum_conf_df = desc_grp_conf_df.iloc[:, :4]\n",
        "for i in range(len(desc_grp_conf_df.columns[3:]) - 1):\n",
        "    series = desc_grp_conf_df[desc_grp_conf_df.columns[3 + (i + 1) ]] - desc_grp_conf_df[desc_grp_conf_df.columns[3 + i]]\n",
        "    non_cum_conf_df[desc_grp_conf_df.columns[3 + (i + 1)]] = series\n",
        "\n",
        "# Function to get the total non-cumulative confirmed cases in a country.\n",
        "def get_total_daily_confirmed_cases_for_country(country_name):\n",
        "    total_daily_cases = non_cum_conf_df[non_cum_conf_df['Country/Region'] == country_name].iloc[:, 4:].apply(sum, axis = 0)\n",
        "    total_daily_cases.index = pd.to_datetime(total_daily_cases.index)\n",
        "    return total_daily_cases\n",
        "\n",
        "# Line plot for the daily (non-cumulative) confirmed cases in various countries.\n",
        "def daily_cases_line_plot(your_name, num_countries, width, height):\n",
        "    plt.figure(figsize=(width, height))\n",
        "    plt.title(f'Non-Cumulative COVID-19 Confirmed Cases\\nCreated by {your_name.upper()}\\nPowered by WhiteHat Jr', fontsize = 16)\n",
        "    for region in non_cum_conf_df.iloc[:num_countries, :]['Country/Region']:\n",
        "        total_conf_cases = get_total_daily_confirmed_cases_for_country(region)\n",
        "        plt.plot(total_conf_cases.index[53:], total_conf_cases[53:], lw=2.5, label=region)\n",
        "    plt.xticks(rotation=45)\n",
        "    plt.legend()\n",
        "    plt.grid('major', linestyle='--', c='grey')\n",
        "    plt.show()"
      ],
      "execution_count": 1,
      "outputs": [
        {
          "output_type": "stream",
          "name": "stdout",
          "text": [
            "Cloning into 'COVID-19'...\n",
            "remote: Enumerating objects: 403323, done.\u001b[K\n",
            "remote: Counting objects: 100% (2381/2381), done.\u001b[K\n",
            "remote: Compressing objects: 100% (1888/1888), done.\u001b[K\n",
            "remote: Total 403323 (delta 612), reused 2245 (delta 493), pack-reused 400942\u001b[K\n",
            "Receiving objects: 100% (403323/403323), 5.09 GiB | 26.04 MiB/s, done.\n",
            "Resolving deltas: 100% (334768/334768), done.\n",
            "Checking out files: 100% (1912/1912), done.\n",
            "Looking in indexes: https://pypi.org/simple, https://us-python.pkg.dev/colab-wheels/public/simple/\n",
            "Collecting geocoder\n",
            "  Downloading geocoder-1.38.1-py2.py3-none-any.whl (98 kB)\n",
            "\u001b[K     |████████████████████████████████| 98 kB 4.0 MB/s \n",
            "\u001b[?25hCollecting ratelim\n",
            "  Downloading ratelim-0.1.6-py2.py3-none-any.whl (4.0 kB)\n",
            "Requirement already satisfied: future in /usr/local/lib/python3.7/dist-packages (from geocoder) (0.16.0)\n",
            "Requirement already satisfied: requests in /usr/local/lib/python3.7/dist-packages (from geocoder) (2.23.0)\n",
            "Requirement already satisfied: six in /usr/local/lib/python3.7/dist-packages (from geocoder) (1.15.0)\n",
            "Requirement already satisfied: click in /usr/local/lib/python3.7/dist-packages (from geocoder) (7.1.2)\n",
            "Requirement already satisfied: decorator in /usr/local/lib/python3.7/dist-packages (from ratelim->geocoder) (4.4.2)\n",
            "Requirement already satisfied: chardet<4,>=3.0.2 in /usr/local/lib/python3.7/dist-packages (from requests->geocoder) (3.0.4)\n",
            "Requirement already satisfied: certifi>=2017.4.17 in /usr/local/lib/python3.7/dist-packages (from requests->geocoder) (2022.6.15)\n",
            "Requirement already satisfied: idna<3,>=2.5 in /usr/local/lib/python3.7/dist-packages (from requests->geocoder) (2.10)\n",
            "Requirement already satisfied: urllib3!=1.25.0,!=1.25.1,<1.26,>=1.21.1 in /usr/local/lib/python3.7/dist-packages (from requests->geocoder) (1.24.3)\n",
            "Installing collected packages: ratelim, geocoder\n",
            "Successfully installed geocoder-1.38.1 ratelim-0.1.6\n"
          ]
        },
        {
          "output_type": "stream",
          "name": "stderr",
          "text": [
            "/usr/local/lib/python3.7/dist-packages/ipykernel_launcher.py:176: PerformanceWarning: DataFrame is highly fragmented.  This is usually the result of calling `frame.insert` many times, which has poor performance.  Consider joining all columns at once using pd.concat(axis=1) instead.  To get a de-fragmented frame, use `newframe = frame.copy()`\n"
          ]
        }
      ]
    },
    {
      "cell_type": "markdown",
      "metadata": {
        "id": "gg0S_PoPIWNa"
      },
      "source": [
        "---"
      ]
    },
    {
      "cell_type": "markdown",
      "metadata": {
        "id": "pbKvEaCufa-p"
      },
      "source": [
        "#### Activity 2: Line Plot^\n",
        "\n",
        "Let's create a line plot to visualise the total number of confirmed cases in India till yesterday. For the line plot, the dataset that we have on coronavirus is maintained at Johns Hopkins University which gets according to the US time. Hence, we have data updated till yesterday. \n",
        "\n",
        "To view this dataset, write `conf_df[conf_df['Country/Region'] == 'India']` in the code cell below."
      ]
    },
    {
      "cell_type": "code",
      "metadata": {
        "id": "qpXGILXhk64L"
      },
      "source": [
        "# Student Action: Write conf_df[conf_df['Country/Region'] == 'India'] to view the dataset for India that will be used to create a line plot.\n"
      ],
      "execution_count": null,
      "outputs": []
    },
    {
      "cell_type": "markdown",
      "metadata": {
        "id": "uObwYzKCHHiK"
      },
      "source": [
        "So, in this dataset, we have data for the total confirmed cases in India starting from January 22, 2020. The date given here is in the `MM/DD/YY` format where \n",
        "\n",
        "- `MM` stands for month\n",
        "\n",
        "- `DD` stands for day\n",
        "\n",
        "- `YY` stands for year\n",
        "\n",
        "Now, let's create a line plot. To create a line plot, you need to use the `line_plot()` function which takes the following inputs:\n",
        "\n",
        "- Name of the person who is creating the line plot which should be a text value enclosed within single-quotes (`''`) or double-quotes (`\"\"`).\n",
        "\n",
        "- The background style of the line plot which should be a text value enclosed within single-quotes (`''`) or double-quotes (`\"\"`).. Here is the list of most commonly used background styles:\n",
        "\n",
        "  1. `'dark_background'` (most preferred)\n",
        "\n",
        "  2. `'ggplot'`\n",
        "\n",
        "  3. `'seaborn'`\n",
        "\n",
        "  4. `'fivethirtyeight'`\n",
        "\n",
        "  and many more.\n",
        "\n",
        "- Width of the line plot (numeric value).\n",
        "\n",
        "- Height of the line plot (numeric value).\n",
        "\n",
        "- Name of the country which should be a text value enclosed within single-quotes (`''`) or double-quotes (`\"\"`).\n",
        "\n",
        "- Colour of the lines which should be a text value enclosed within single-quotes (`''`) or double-quotes (`\"\"`). Here's the list of most commonly used colours:\n",
        "\n",
        "  1. `'red'`\n",
        "  \n",
        "  2. `'cyan'` \n",
        "  \n",
        "  3. `'magenta'`\n",
        "\n",
        "  4. `'yellow'`\n",
        "\n",
        "  5. `'green'`\n",
        "\n",
        "- The width of the line (numeric value)\n",
        "\n",
        "- The marker style on the line plot which should be a text value enclosed within single-quotes (`''`) or double-quotes (`\"\"`). Here is the list of the most commonly used marker styles:\n",
        "\n",
        "  1. `'o'` for a circular marker\n",
        "\n",
        "  2. `'*'` for a starred marker\n",
        "\n",
        "  3. `'^'` for a upper triangular marker\n"
      ]
    },
    {
      "cell_type": "code",
      "metadata": {
        "id": "G1HArsXcHNXK"
      },
      "source": [
        "# Student Action: Create a line plot for the total confirmed cases in India using the 'line_plot()' function.\n"
      ],
      "execution_count": null,
      "outputs": []
    },
    {
      "cell_type": "markdown",
      "metadata": {
        "id": "2uQJGNR1lJBz"
      },
      "source": [
        "**Note:** The `line_plot()` function is NOT a standard Python function. It is a user-defined function created at WhiteHat Jr using Python to simplify the line plot creation process. You will learn to create your own user-defined function in the subsequent classes in this course."
      ]
    },
    {
      "cell_type": "markdown",
      "metadata": {
        "id": "Rt79o-Ork9BO"
      },
      "source": [
        "---"
      ]
    },
    {
      "cell_type": "markdown",
      "metadata": {
        "id": "bb1A1XTZDyxv"
      },
      "source": [
        "#### Activity 3: Map^^"
      ]
    },
    {
      "cell_type": "markdown",
      "metadata": {
        "id": "eEfwX2AmVl2u"
      },
      "source": [
        "Let's now create a map for India to show the state-wise total confirmed cases of coronavirus. Using the latitude and longitude values (which are numeric values with decimal), we can create circular markers on a map. For this, you need to use the `folium_map_with_circles()` function which takes the following inputs:\n",
        "\n",
        "- Name of the person who is creating the map which should be a text value enclosed within single-quotes (`''`) or double-quotes (`\"\"`).\n",
        "\n",
        "- Name of the country for which a map needs to be created. It should be a text value enclosed within single-quotes (`''`) or double-quotes (`\"\"`). For the map only three values are supported:\n",
        "\n",
        "  1. `'India'`\n",
        "\n",
        "  2. `'US'`\n",
        "\n",
        "  3. `'World'`\n",
        "\n",
        "- Width of the map (numeric value).\n",
        "\n",
        "- Height of the map (numeric value).\n",
        "\n",
        "- Left margin for the map (numeric value).\n",
        "\n",
        "- Top margin for the map (numeric value).\n",
        "\n",
        "- The background style of the map which should be a text value enclosed within single-quotes (`''`) or double-quotes (`\"\"`). Here is the list of most commonly used background styles:\n",
        "\n",
        "  1. `'OpenStreetMap'`\n",
        "\n",
        "  2. `'Stamen Terrain'`\n",
        "\n",
        "  3. `'Stamen Toner'`\n",
        "\n",
        "- Initial zoom in value (a numeric value)\n",
        "\n",
        "- Colour of the circles on the map should be a text value enclosed within single-quotes (`''`) or double-quotes (`\"\"`). Here's the list of most commonly used colours:\n",
        "\n",
        "  1. `'red'`\n",
        "  \n",
        "  2. `'blue'` \n",
        "  \n",
        "  3. `'magenta'`\n",
        "\n",
        "  4. `'yellow'`\n",
        "\n",
        "  5. `'green'`\n",
        "\n",
        "- Whether you want the map to have a minimap or not; `True` for **yes** and `False` for **no**.\n"
      ]
    },
    {
      "cell_type": "code",
      "metadata": {
        "id": "JWAxL5giKQuB"
      },
      "source": [
        "# Student Action: Create a map for India to show the state-wise total confirmed cases of coronavirus.\n"
      ],
      "execution_count": null,
      "outputs": []
    },
    {
      "cell_type": "markdown",
      "metadata": {
        "id": "Pcb7pRe5eeJJ"
      },
      "source": [
        "**Note:** The `folium_map_with_circles()` function is NOT a standard Python function. It is a user-defined function created at WhiteHat Jr using Python to simplify the map creation process. You will learn to create your own user-defined function in the subsequent classes in this course.\n"
      ]
    },
    {
      "cell_type": "markdown",
      "metadata": {
        "id": "XQS9oIkAFw6u"
      },
      "source": [
        "---"
      ]
    }
  ]
}